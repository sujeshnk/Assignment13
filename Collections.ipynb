{
  "nbformat": 4,
  "nbformat_minor": 0,
  "metadata": {
    "colab": {
      "name": "Collections.ipynb",
      "provenance": []
    },
    "kernelspec": {
      "name": "python3",
      "display_name": "Python 3"
    },
    "language_info": {
      "name": "python"
    }
  },
  "cells": [
    {
      "cell_type": "code",
      "metadata": {
        "colab": {
          "base_uri": "https://localhost:8080/"
        },
        "id": "O6WjCWvEzWZs",
        "outputId": "31f15b5c-f84f-4c39-dc71-a613b9777d77"
      },
      "source": [
        "a = [1, 2, 3, 4, 3, 2, 1 , 0 , 4, 5, 1, 5, 6, 1]\n",
        "from collections import Counter\n",
        "c = Counter(a)\n",
        "\n",
        "print(c)\n",
        "print (c[0])"
      ],
      "execution_count": 9,
      "outputs": [
        {
          "output_type": "stream",
          "text": [
            "Counter({1: 4, 2: 2, 3: 2, 4: 2, 5: 2, 0: 1, 6: 1})\n",
            "1\n"
          ],
          "name": "stdout"
        }
      ]
    }
  ]
}